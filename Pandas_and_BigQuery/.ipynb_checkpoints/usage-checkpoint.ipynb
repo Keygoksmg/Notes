{
 "cells": [
  {
   "cell_type": "markdown",
   "id": "d34b43d7-9283-4910-abfd-a6e7f45c40bf",
   "metadata": {},
   "source": [
    "BigQueryの使用状況を返します。"
   ]
  },
  {
   "cell_type": "markdown",
   "id": "4e736a32-bb57-46a9-8f0a-22c4cafb3901",
   "metadata": {
    "tags": []
   },
   "source": [
    "# あるDatasetの容量を調べる"
   ]
  },
  {
   "cell_type": "code",
   "execution_count": 15,
   "id": "bdb3e5cf-861f-4052-bf0c-927de8482742",
   "metadata": {},
   "outputs": [
    {
     "name": "stdout",
     "output_type": "stream",
     "text": [
      "\n",
      "    SELECT\n",
      "    SUM(size_bytes)  / 1000000000 AS GBs,\n",
      "    SUM(row_count) AS Records\n",
      "    FROM `Acknowledgement.__TABLES__`\n",
      "\n",
      "CPU times: user 90.8 ms, sys: 9.13 ms, total: 99.9 ms\n",
      "Wall time: 1.57 s\n"
     ]
    },
    {
     "data": {
      "text/html": [
       "<div>\n",
       "<style scoped>\n",
       "    .dataframe tbody tr th:only-of-type {\n",
       "        vertical-align: middle;\n",
       "    }\n",
       "\n",
       "    .dataframe tbody tr th {\n",
       "        vertical-align: top;\n",
       "    }\n",
       "\n",
       "    .dataframe thead th {\n",
       "        text-align: right;\n",
       "    }\n",
       "</style>\n",
       "<table border=\"1\" class=\"dataframe\">\n",
       "  <thead>\n",
       "    <tr style=\"text-align: right;\">\n",
       "      <th></th>\n",
       "      <th>GBs</th>\n",
       "      <th>Records</th>\n",
       "    </tr>\n",
       "  </thead>\n",
       "  <tbody>\n",
       "    <tr>\n",
       "      <th>0</th>\n",
       "      <td>0.033576</td>\n",
       "      <td>677433</td>\n",
       "    </tr>\n",
       "  </tbody>\n",
       "</table>\n",
       "</div>"
      ],
      "text/plain": [
       "        GBs  Records\n",
       "0  0.033576   677433"
      ]
     },
     "execution_count": 15,
     "metadata": {},
     "output_type": "execute_result"
    }
   ],
   "source": [
    "%%time\n",
    "# pandas-gbq\n",
    "import pandas as pd\n",
    "\n",
    "DATASET = 'Acknowledgement'\n",
    "\n",
    "sql = f\"\"\"\n",
    "    SELECT\n",
    "    SUM(size_bytes)  / 1000000000 AS GBs,\n",
    "    SUM(row_count) AS Records\n",
    "    FROM `{DATASET}.__TABLES__`\n",
    "\"\"\"\n",
    "\n",
    "# Run a Standard SQL query using the environment's default project\n",
    "df = pd.read_gbq(sql, dialect='standard')\n",
    "# df = pandas.read_gbq(sql, project_id='research-megi', dialect='standard', use_bqstorage_api=True)\n",
    "df"
   ]
  },
  {
   "cell_type": "code",
   "execution_count": null,
   "id": "a54a427d-ddca-4db2-abab-2f7cfff13986",
   "metadata": {},
   "outputs": [],
   "source": []
  }
 ],
 "metadata": {
  "kernelspec": {
   "display_name": "Python 3 (ipykernel)",
   "language": "python",
   "name": "python3"
  },
  "language_info": {
   "codemirror_mode": {
    "name": "ipython",
    "version": 3
   },
   "file_extension": ".py",
   "mimetype": "text/x-python",
   "name": "python",
   "nbconvert_exporter": "python",
   "pygments_lexer": "ipython3",
   "version": "3.9.13"
  }
 },
 "nbformat": 4,
 "nbformat_minor": 5
}
