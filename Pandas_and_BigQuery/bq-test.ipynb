{
 "cells": [
  {
   "cell_type": "markdown",
   "id": "d34b43d7-9283-4910-abfd-a6e7f45c40bf",
   "metadata": {},
   "source": [
    "Once setting service account and its key as environmental variable, you can connect to bq using the following approach."
   ]
  },
  {
   "cell_type": "markdown",
   "id": "4e736a32-bb57-46a9-8f0a-22c4cafb3901",
   "metadata": {
    "tags": []
   },
   "source": [
    "# Get: Run query and get data from BigQuery"
   ]
  },
  {
   "cell_type": "markdown",
   "id": "0fb8bcdf-418a-4ef5-a355-f4e7303d29bd",
   "metadata": {},
   "source": [
    "## 1. pandas-gbq"
   ]
  },
  {
   "cell_type": "code",
   "execution_count": 19,
   "id": "bdb3e5cf-861f-4052-bf0c-927de8482742",
   "metadata": {},
   "outputs": [
    {
     "name": "stdout",
     "output_type": "stream",
     "text": [
      "CPU times: user 69 ms, sys: 6.91 ms, total: 75.9 ms\n",
      "Wall time: 956 ms\n"
     ]
    },
    {
     "data": {
      "text/html": [
       "<div>\n",
       "<style scoped>\n",
       "    .dataframe tbody tr th:only-of-type {\n",
       "        vertical-align: middle;\n",
       "    }\n",
       "\n",
       "    .dataframe tbody tr th {\n",
       "        vertical-align: top;\n",
       "    }\n",
       "\n",
       "    .dataframe thead th {\n",
       "        text-align: right;\n",
       "    }\n",
       "</style>\n",
       "<table border=\"1\" class=\"dataframe\">\n",
       "  <thead>\n",
       "    <tr style=\"text-align: right;\">\n",
       "      <th></th>\n",
       "      <th>ga_gender</th>\n",
       "      <th>PaperId</th>\n",
       "    </tr>\n",
       "  </thead>\n",
       "  <tbody>\n",
       "    <tr>\n",
       "      <th>0</th>\n",
       "      <td>unknown</td>\n",
       "      <td>2040138931</td>\n",
       "    </tr>\n",
       "    <tr>\n",
       "      <th>1</th>\n",
       "      <td>unknown</td>\n",
       "      <td>2067386870</td>\n",
       "    </tr>\n",
       "    <tr>\n",
       "      <th>2</th>\n",
       "      <td>unknown</td>\n",
       "      <td>2901642773</td>\n",
       "    </tr>\n",
       "    <tr>\n",
       "      <th>3</th>\n",
       "      <td>unknown</td>\n",
       "      <td>2823472156</td>\n",
       "    </tr>\n",
       "    <tr>\n",
       "      <th>4</th>\n",
       "      <td>unknown</td>\n",
       "      <td>2270582783</td>\n",
       "    </tr>\n",
       "    <tr>\n",
       "      <th>...</th>\n",
       "      <td>...</td>\n",
       "      <td>...</td>\n",
       "    </tr>\n",
       "    <tr>\n",
       "      <th>95</th>\n",
       "      <td>unknown</td>\n",
       "      <td>2069932918</td>\n",
       "    </tr>\n",
       "    <tr>\n",
       "      <th>96</th>\n",
       "      <td>unknown</td>\n",
       "      <td>2014834660</td>\n",
       "    </tr>\n",
       "    <tr>\n",
       "      <th>97</th>\n",
       "      <td>unknown</td>\n",
       "      <td>1976030566</td>\n",
       "    </tr>\n",
       "    <tr>\n",
       "      <th>98</th>\n",
       "      <td>unknown</td>\n",
       "      <td>2014200373</td>\n",
       "    </tr>\n",
       "    <tr>\n",
       "      <th>99</th>\n",
       "      <td>unknown</td>\n",
       "      <td>2140311806</td>\n",
       "    </tr>\n",
       "  </tbody>\n",
       "</table>\n",
       "<p>100 rows × 2 columns</p>\n",
       "</div>"
      ],
      "text/plain": [
       "   ga_gender     PaperId\n",
       "0    unknown  2040138931\n",
       "1    unknown  2067386870\n",
       "2    unknown  2901642773\n",
       "3    unknown  2823472156\n",
       "4    unknown  2270582783\n",
       "..       ...         ...\n",
       "95   unknown  2069932918\n",
       "96   unknown  2014834660\n",
       "97   unknown  1976030566\n",
       "98   unknown  2014200373\n",
       "99   unknown  2140311806\n",
       "\n",
       "[100 rows x 2 columns]"
      ]
     },
     "execution_count": 19,
     "metadata": {},
     "output_type": "execute_result"
    }
   ],
   "source": [
    "%%time\n",
    "# pandas-gbq\n",
    "\n",
    "import pandas as pd\n",
    "PROJECT_ID = 'research-megi'\n",
    "\n",
    "sql = \"\"\"\n",
    "    SELECT ga_gender, PaperId\n",
    "    FROM `research-megi.Acknowledgement.AcknowledgedGender`\n",
    "    LIMIT 100\n",
    "\"\"\"\n",
    "\n",
    "# Run a Standard SQL query using the environment's default project\n",
    "df = pd.read_gbq(sql, dialect='standard')\n",
    "# df = pandas.read_gbq(sql, project_id='research-megi', dialect='standard', use_bqstorage_api=True)\n",
    "df"
   ]
  },
  {
   "cell_type": "markdown",
   "id": "509fe253-5122-47ba-80d6-50d9800e5999",
   "metadata": {},
   "source": [
    "## 2. google-cloud-bigquery"
   ]
  },
  {
   "cell_type": "code",
   "execution_count": 20,
   "id": "fbdb8f55-978c-45c8-a60b-c4efa1125173",
   "metadata": {
    "tags": []
   },
   "outputs": [
    {
     "name": "stdout",
     "output_type": "stream",
     "text": [
      "CPU times: user 202 ms, sys: 14.7 ms, total: 217 ms\n",
      "Wall time: 1.96 s\n"
     ]
    },
    {
     "data": {
      "text/html": [
       "<div>\n",
       "<style scoped>\n",
       "    .dataframe tbody tr th:only-of-type {\n",
       "        vertical-align: middle;\n",
       "    }\n",
       "\n",
       "    .dataframe tbody tr th {\n",
       "        vertical-align: top;\n",
       "    }\n",
       "\n",
       "    .dataframe thead th {\n",
       "        text-align: right;\n",
       "    }\n",
       "</style>\n",
       "<table border=\"1\" class=\"dataframe\">\n",
       "  <thead>\n",
       "    <tr style=\"text-align: right;\">\n",
       "      <th></th>\n",
       "      <th>ga_gender</th>\n",
       "    </tr>\n",
       "  </thead>\n",
       "  <tbody>\n",
       "    <tr>\n",
       "      <th>0</th>\n",
       "      <td>unknown</td>\n",
       "    </tr>\n",
       "    <tr>\n",
       "      <th>1</th>\n",
       "      <td>unknown</td>\n",
       "    </tr>\n",
       "    <tr>\n",
       "      <th>2</th>\n",
       "      <td>unknown</td>\n",
       "    </tr>\n",
       "    <tr>\n",
       "      <th>3</th>\n",
       "      <td>unknown</td>\n",
       "    </tr>\n",
       "    <tr>\n",
       "      <th>4</th>\n",
       "      <td>unknown</td>\n",
       "    </tr>\n",
       "    <tr>\n",
       "      <th>...</th>\n",
       "      <td>...</td>\n",
       "    </tr>\n",
       "    <tr>\n",
       "      <th>95</th>\n",
       "      <td>unknown</td>\n",
       "    </tr>\n",
       "    <tr>\n",
       "      <th>96</th>\n",
       "      <td>unknown</td>\n",
       "    </tr>\n",
       "    <tr>\n",
       "      <th>97</th>\n",
       "      <td>unknown</td>\n",
       "    </tr>\n",
       "    <tr>\n",
       "      <th>98</th>\n",
       "      <td>unknown</td>\n",
       "    </tr>\n",
       "    <tr>\n",
       "      <th>99</th>\n",
       "      <td>unknown</td>\n",
       "    </tr>\n",
       "  </tbody>\n",
       "</table>\n",
       "<p>100 rows × 1 columns</p>\n",
       "</div>"
      ],
      "text/plain": [
       "   ga_gender\n",
       "0    unknown\n",
       "1    unknown\n",
       "2    unknown\n",
       "3    unknown\n",
       "4    unknown\n",
       "..       ...\n",
       "95   unknown\n",
       "96   unknown\n",
       "97   unknown\n",
       "98   unknown\n",
       "99   unknown\n",
       "\n",
       "[100 rows x 1 columns]"
      ]
     },
     "execution_count": 20,
     "metadata": {},
     "output_type": "execute_result"
    }
   ],
   "source": [
    "%%time\n",
    "# google-cloud-bigquery:\n",
    "\n",
    "from google.cloud import bigquery as bq\n",
    "\n",
    "client = bq.Client()\n",
    "sql = \"\"\"\n",
    "    SELECT ga_gender\n",
    "    FROM `research-megi.Acknowledgement.AcknowledgedGender`\n",
    "    LIMIT 100\n",
    "\"\"\"\n",
    "\n",
    "# Run a Standard SQL query using the environment's default project\n",
    "df = client.query(sql).to_dataframe()\n",
    "df"
   ]
  },
  {
   "cell_type": "markdown",
   "id": "89327a1b-e08e-4452-b500-8d37c6bff209",
   "metadata": {},
   "source": [
    "## 3. IPython Magics for BigQuery"
   ]
  },
  {
   "cell_type": "code",
   "execution_count": 12,
   "id": "03a76261-9abe-441d-b972-fe5d3e05fd2a",
   "metadata": {},
   "outputs": [],
   "source": [
    "%load_ext google.cloud.bigquery"
   ]
  },
  {
   "cell_type": "code",
   "execution_count": 13,
   "id": "e2c1d161-ff53-4af4-ad89-9702fa1458c6",
   "metadata": {},
   "outputs": [
    {
     "data": {
      "application/vnd.jupyter.widget-view+json": {
       "model_id": "7fd176d5a8f04cab815a02ccf0d1e582",
       "version_major": 2,
       "version_minor": 0
      },
      "text/plain": [
       "Query is running:   0%|          |"
      ]
     },
     "metadata": {},
     "output_type": "display_data"
    },
    {
     "data": {
      "application/vnd.jupyter.widget-view+json": {
       "model_id": "bdabbd65658941999b5a76ffbbe127e1",
       "version_major": 2,
       "version_minor": 0
      },
      "text/plain": [
       "Downloading:   0%|          |"
      ]
     },
     "metadata": {},
     "output_type": "display_data"
    }
   ],
   "source": [
    "%%bigquery df --use_bqstorage_api\n",
    "SELECT ga_gender\n",
    "FROM `research-megi.Acknowledgement.AcknowledgedGender`\n",
    "LIMIT 100"
   ]
  },
  {
   "cell_type": "code",
   "execution_count": 14,
   "id": "b5c0bb92-904b-4caa-8a21-3f53e45f7a12",
   "metadata": {},
   "outputs": [
    {
     "data": {
      "text/html": [
       "<div>\n",
       "<style scoped>\n",
       "    .dataframe tbody tr th:only-of-type {\n",
       "        vertical-align: middle;\n",
       "    }\n",
       "\n",
       "    .dataframe tbody tr th {\n",
       "        vertical-align: top;\n",
       "    }\n",
       "\n",
       "    .dataframe thead th {\n",
       "        text-align: right;\n",
       "    }\n",
       "</style>\n",
       "<table border=\"1\" class=\"dataframe\">\n",
       "  <thead>\n",
       "    <tr style=\"text-align: right;\">\n",
       "      <th></th>\n",
       "      <th>ga_gender</th>\n",
       "    </tr>\n",
       "  </thead>\n",
       "  <tbody>\n",
       "    <tr>\n",
       "      <th>0</th>\n",
       "      <td>unknown</td>\n",
       "    </tr>\n",
       "    <tr>\n",
       "      <th>1</th>\n",
       "      <td>unknown</td>\n",
       "    </tr>\n",
       "    <tr>\n",
       "      <th>2</th>\n",
       "      <td>unknown</td>\n",
       "    </tr>\n",
       "    <tr>\n",
       "      <th>3</th>\n",
       "      <td>unknown</td>\n",
       "    </tr>\n",
       "    <tr>\n",
       "      <th>4</th>\n",
       "      <td>unknown</td>\n",
       "    </tr>\n",
       "    <tr>\n",
       "      <th>...</th>\n",
       "      <td>...</td>\n",
       "    </tr>\n",
       "    <tr>\n",
       "      <th>95</th>\n",
       "      <td>unknown</td>\n",
       "    </tr>\n",
       "    <tr>\n",
       "      <th>96</th>\n",
       "      <td>unknown</td>\n",
       "    </tr>\n",
       "    <tr>\n",
       "      <th>97</th>\n",
       "      <td>unknown</td>\n",
       "    </tr>\n",
       "    <tr>\n",
       "      <th>98</th>\n",
       "      <td>unknown</td>\n",
       "    </tr>\n",
       "    <tr>\n",
       "      <th>99</th>\n",
       "      <td>unknown</td>\n",
       "    </tr>\n",
       "  </tbody>\n",
       "</table>\n",
       "<p>100 rows × 1 columns</p>\n",
       "</div>"
      ],
      "text/plain": [
       "   ga_gender\n",
       "0    unknown\n",
       "1    unknown\n",
       "2    unknown\n",
       "3    unknown\n",
       "4    unknown\n",
       "..       ...\n",
       "95   unknown\n",
       "96   unknown\n",
       "97   unknown\n",
       "98   unknown\n",
       "99   unknown\n",
       "\n",
       "[100 rows x 1 columns]"
      ]
     },
     "execution_count": 14,
     "metadata": {},
     "output_type": "execute_result"
    }
   ],
   "source": [
    "df"
   ]
  },
  {
   "cell_type": "markdown",
   "id": "f2781e63-1971-4201-aa33-43a4153d2e8d",
   "metadata": {},
   "source": [
    "# Write: Create BigQuery table from pandas dataframe"
   ]
  },
  {
   "cell_type": "code",
   "execution_count": 22,
   "id": "961fa9c8-c67d-46a3-bb4a-46c2b9ccef96",
   "metadata": {},
   "outputs": [],
   "source": [
    "import pandas as pd\n",
    "from google.cloud import bigquery as bq\n",
    "\n",
    "# Example data\n",
    "df = pd.DataFrame({'a': [1,2,4], 'b': ['123', '456', '000']})\n",
    "\n",
    "# Load client\n",
    "client = bigquery.Client()\n",
    "\n",
    "# Define table name, in format dataset.table_name\n",
    "# At least `example-dataset` should exist in BigQuery.\n",
    "table = 'example-dataset.example-table'\n",
    "\n",
    "# Load data to BQ\n",
    "job = client.load_table_from_dataframe(df, table)"
   ]
  },
  {
   "cell_type": "code",
   "execution_count": null,
   "id": "44c8260a-e2c5-47ad-99d3-a565b176a3d0",
   "metadata": {},
   "outputs": [],
   "source": []
  }
 ],
 "metadata": {
  "kernelspec": {
   "display_name": "Python 3 (ipykernel)",
   "language": "python",
   "name": "python3"
  },
  "language_info": {
   "codemirror_mode": {
    "name": "ipython",
    "version": 3
   },
   "file_extension": ".py",
   "mimetype": "text/x-python",
   "name": "python",
   "nbconvert_exporter": "python",
   "pygments_lexer": "ipython3",
   "version": "3.9.13"
  }
 },
 "nbformat": 4,
 "nbformat_minor": 5
}
