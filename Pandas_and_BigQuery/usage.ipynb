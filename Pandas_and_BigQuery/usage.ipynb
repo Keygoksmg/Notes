{
 "cells": [
  {
   "cell_type": "markdown",
   "id": "d34b43d7-9283-4910-abfd-a6e7f45c40bf",
   "metadata": {},
   "source": [
    "BigQueryの使用状況を返します。"
   ]
  },
  {
   "cell_type": "markdown",
   "id": "4e736a32-bb57-46a9-8f0a-22c4cafb3901",
   "metadata": {
    "tags": []
   },
   "source": [
    "# Datasetの容量を調べる"
   ]
  },
  {
   "cell_type": "code",
   "execution_count": 18,
   "id": "bdb3e5cf-861f-4052-bf0c-927de8482742",
   "metadata": {},
   "outputs": [
    {
     "data": {
      "text/html": [
       "<div>\n",
       "<style scoped>\n",
       "    .dataframe tbody tr th:only-of-type {\n",
       "        vertical-align: middle;\n",
       "    }\n",
       "\n",
       "    .dataframe tbody tr th {\n",
       "        vertical-align: top;\n",
       "    }\n",
       "\n",
       "    .dataframe thead th {\n",
       "        text-align: right;\n",
       "    }\n",
       "</style>\n",
       "<table border=\"1\" class=\"dataframe\">\n",
       "  <thead>\n",
       "    <tr style=\"text-align: right;\">\n",
       "      <th></th>\n",
       "      <th>GBs</th>\n",
       "      <th>Records</th>\n",
       "    </tr>\n",
       "  </thead>\n",
       "  <tbody>\n",
       "    <tr>\n",
       "      <th>0</th>\n",
       "      <td>0.033576</td>\n",
       "      <td>677433</td>\n",
       "    </tr>\n",
       "  </tbody>\n",
       "</table>\n",
       "</div>"
      ],
      "text/plain": [
       "        GBs  Records\n",
       "0  0.033576   677433"
      ]
     },
     "execution_count": 18,
     "metadata": {},
     "output_type": "execute_result"
    }
   ],
   "source": [
    "import pandas as pd\n",
    "\n",
    "DATASET = 'Acknowledgement'\n",
    "\n",
    "sql = f\"\"\"\n",
    "    SELECT\n",
    "    SUM(size_bytes)  / 1000000000 AS GBs,\n",
    "    SUM(row_count) AS Records\n",
    "    FROM `{DATASET}.__TABLES__`\n",
    "\"\"\"\n",
    "\n",
    "# Run a Standard SQL query using the environment's default project\n",
    "df = pd.read_gbq(sql, dialect='standard')\n",
    "# df = pandas.read_gbq(sql, project_id='research-megi', dialect='standard', use_bqstorage_api=True)\n",
    "df"
   ]
  },
  {
   "cell_type": "markdown",
   "id": "95d8cd0e-7733-49b0-bbf9-ce3fd3932afe",
   "metadata": {},
   "source": [
    "# ユーザ毎のクエリ処理量の確認"
   ]
  },
  {
   "cell_type": "code",
   "execution_count": 48,
   "id": "1c1383b9-05d3-4d3a-a5e3-3d820d665f5f",
   "metadata": {},
   "outputs": [
    {
     "data": {
      "text/html": [
       "<div>\n",
       "<style scoped>\n",
       "    .dataframe tbody tr th:only-of-type {\n",
       "        vertical-align: middle;\n",
       "    }\n",
       "\n",
       "    .dataframe tbody tr th {\n",
       "        vertical-align: top;\n",
       "    }\n",
       "\n",
       "    .dataframe thead th {\n",
       "        text-align: right;\n",
       "    }\n",
       "</style>\n",
       "<table border=\"1\" class=\"dataframe\">\n",
       "  <thead>\n",
       "    <tr style=\"text-align: right;\">\n",
       "      <th></th>\n",
       "      <th>user_email</th>\n",
       "      <th>total_bytes_processed</th>\n",
       "      <th>total_TB_processed</th>\n",
       "      <th>Charges_Dollar</th>\n",
       "    </tr>\n",
       "  </thead>\n",
       "  <tbody>\n",
       "    <tr>\n",
       "      <th>0</th>\n",
       "      <td>kusukun7@gmail.com</td>\n",
       "      <td>115352242</td>\n",
       "      <td>0.000105</td>\n",
       "      <td>0.000629</td>\n",
       "    </tr>\n",
       "    <tr>\n",
       "      <th>1</th>\n",
       "      <td>bq-connector@research-megi.iam.gserviceaccount...</td>\n",
       "      <td>19228026</td>\n",
       "      <td>0.000017</td>\n",
       "      <td>0.000105</td>\n",
       "    </tr>\n",
       "    <tr>\n",
       "      <th>TOTAL</th>\n",
       "      <td>kusukun7@gmail.combq-connector@research-megi.i...</td>\n",
       "      <td>134580268</td>\n",
       "      <td>0.000122</td>\n",
       "      <td>0.000734</td>\n",
       "    </tr>\n",
       "  </tbody>\n",
       "</table>\n",
       "</div>"
      ],
      "text/plain": [
       "                                              user_email  \\\n",
       "0                                     kusukun7@gmail.com   \n",
       "1      bq-connector@research-megi.iam.gserviceaccount...   \n",
       "TOTAL  kusukun7@gmail.combq-connector@research-megi.i...   \n",
       "\n",
       "       total_bytes_processed  total_TB_processed  Charges_Dollar  \n",
       "0                  115352242            0.000105        0.000629  \n",
       "1                   19228026            0.000017        0.000105  \n",
       "TOTAL              134580268            0.000122        0.000734  "
      ]
     },
     "execution_count": 48,
     "metadata": {},
     "output_type": "execute_result"
    }
   ],
   "source": [
    "sql = f\"\"\"\n",
    "    SELECT\n",
    "     user_email,\n",
    "     SUM(total_bytes_processed) AS total_bytes_processed,\n",
    "     -- Byte to TB\n",
    "     SUM(total_bytes_processed) / 1024 / 1024 / 1024 /1024 AS total_TB_processed,\n",
    "     -- TB to Dollar\n",
    "     SUM(total_bytes_processed) / 1024 / 1024 / 1024 /1024 * 6.0 AS Charges_Dollar,\n",
    "    FROM\n",
    "    `region-asia-northeast1`.INFORMATION_SCHEMA.JOBS_BY_PROJECT\n",
    "    WHERE\n",
    "     DATE(creation_time) BETWEEN DATE_ADD(CURRENT_DATE('Asia/Tokyo'), INTERVAL -30 DAY ) AND CURRENT_DATE('Asia/Tokyo')\n",
    "    GROUP BY 1\n",
    "    ORDER BY 2 DESC\n",
    "\"\"\"\n",
    "\n",
    "# Run a Standard SQL query using the environment's default project\n",
    "df = pd.read_gbq(sql, dialect='standard')\n",
    "# df = pandas.read_gbq(sql, project_id='research-megi', dialect='standard', use_bqstorage_api=True)\n",
    "\n",
    "df.loc['TOTAL'] = df.sum().values\n",
    "df"
   ]
  },
  {
   "cell_type": "code",
   "execution_count": null,
   "id": "3ae23e2f-5346-4c21-8ecd-76508f96f9a2",
   "metadata": {},
   "outputs": [],
   "source": []
  }
 ],
 "metadata": {
  "kernelspec": {
   "display_name": "Python 3 (ipykernel)",
   "language": "python",
   "name": "python3"
  },
  "language_info": {
   "codemirror_mode": {
    "name": "ipython",
    "version": 3
   },
   "file_extension": ".py",
   "mimetype": "text/x-python",
   "name": "python",
   "nbconvert_exporter": "python",
   "pygments_lexer": "ipython3",
   "version": "3.9.13"
  }
 },
 "nbformat": 4,
 "nbformat_minor": 5
}
